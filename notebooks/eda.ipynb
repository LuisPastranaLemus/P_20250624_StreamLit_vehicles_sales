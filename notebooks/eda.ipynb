{
 "cells": [
  {
   "cell_type": "markdown",
   "id": "aaaa3b9a",
   "metadata": {},
   "source": [
    "#### Exploratory Data Analysis\n",
    "\n",
    "Dataset: \n",
    "\n",
    "- _vehicles_us.csv_\n",
    "\n",
    "Author: Luis Sergio Pastrana Lemus  \n",
    "Date: 2025-06-24"
   ]
  },
  {
   "cell_type": "markdown",
   "id": "27f9addc",
   "metadata": {},
   "source": [
    "# Exploratory Data Analysis – Purchasing Activity Dataset"
   ]
  },
  {
   "cell_type": "markdown",
   "id": "7ec870b3",
   "metadata": {},
   "source": [
    "## __1. Libraries__"
   ]
  },
  {
   "cell_type": "code",
   "execution_count": null,
   "id": "f829166b",
   "metadata": {},
   "outputs": [],
   "source": [
    "from IPython.display import display, HTML\n",
    "import ipywidgets as widgets\n",
    "import pandas as pd\n",
    "from pathlib import Path\n",
    "import plotly.express as px\n",
    "import plotly.graph_objects as go\n",
    "from plotly.subplots import make_subplots"
   ]
  },
  {
   "cell_type": "markdown",
   "id": "2ad842d3",
   "metadata": {},
   "source": [
    "## __2. Path to Data file__"
   ]
  },
  {
   "cell_type": "code",
   "execution_count": null,
   "id": "c607cff9",
   "metadata": {},
   "outputs": [],
   "source": [
    "# Build route to data file and upload\n",
    "df_vehicles = pd.read_csv(\n",
    "    \"../Datasets/vehicles_us.csv\", sep=',', header='infer')"
   ]
  },
  {
   "cell_type": "markdown",
   "id": "294da7e1",
   "metadata": {},
   "source": [
    "## __3. Exploratory Data Analysis__"
   ]
  },
  {
   "cell_type": "markdown",
   "id": "12620042",
   "metadata": {},
   "source": [
    "### 3.1  Descriptive Statistics"
   ]
  },
  {
   "cell_type": "code",
   "execution_count": 3,
   "id": "7b92be19",
   "metadata": {},
   "outputs": [
    {
     "data": {
      "application/vnd.microsoft.datawrangler.viewer.v0+json": {
       "columns": [
        {
         "name": "index",
         "rawType": "int64",
         "type": "integer"
        },
        {
         "name": "price",
         "rawType": "int64",
         "type": "integer"
        },
        {
         "name": "model_year",
         "rawType": "float64",
         "type": "float"
        },
        {
         "name": "model",
         "rawType": "object",
         "type": "string"
        },
        {
         "name": "condition",
         "rawType": "object",
         "type": "string"
        },
        {
         "name": "cylinders",
         "rawType": "float64",
         "type": "float"
        },
        {
         "name": "fuel",
         "rawType": "object",
         "type": "string"
        },
        {
         "name": "odometer",
         "rawType": "float64",
         "type": "float"
        },
        {
         "name": "transmission",
         "rawType": "object",
         "type": "string"
        },
        {
         "name": "type",
         "rawType": "object",
         "type": "string"
        },
        {
         "name": "paint_color",
         "rawType": "object",
         "type": "unknown"
        },
        {
         "name": "is_4wd",
         "rawType": "float64",
         "type": "float"
        },
        {
         "name": "date_posted",
         "rawType": "object",
         "type": "string"
        },
        {
         "name": "days_listed",
         "rawType": "int64",
         "type": "integer"
        }
       ],
       "ref": "1f06e6d7-e3e6-49c9-b59a-468d616bb6a2",
       "rows": [
        [
         "0",
         "9400",
         "2011.0",
         "bmw x5",
         "good",
         "6.0",
         "gas",
         "145000.0",
         "automatic",
         "SUV",
         null,
         "1.0",
         "2018-06-23",
         "19"
        ],
        [
         "1",
         "25500",
         null,
         "ford f-150",
         "good",
         "6.0",
         "gas",
         "88705.0",
         "automatic",
         "pickup",
         "white",
         "1.0",
         "2018-10-19",
         "50"
        ],
        [
         "2",
         "5500",
         "2013.0",
         "hyundai sonata",
         "like new",
         "4.0",
         "gas",
         "110000.0",
         "automatic",
         "sedan",
         "red",
         null,
         "2019-02-07",
         "79"
        ],
        [
         "3",
         "1500",
         "2003.0",
         "ford f-150",
         "fair",
         "8.0",
         "gas",
         null,
         "automatic",
         "pickup",
         null,
         null,
         "2019-03-22",
         "9"
        ],
        [
         "4",
         "14900",
         "2017.0",
         "chrysler 200",
         "excellent",
         "4.0",
         "gas",
         "80903.0",
         "automatic",
         "sedan",
         "black",
         null,
         "2019-04-02",
         "28"
        ],
        [
         "5",
         "14990",
         "2014.0",
         "chrysler 300",
         "excellent",
         "6.0",
         "gas",
         "57954.0",
         "automatic",
         "sedan",
         "black",
         "1.0",
         "2018-06-20",
         "15"
        ],
        [
         "6",
         "12990",
         "2015.0",
         "toyota camry",
         "excellent",
         "4.0",
         "gas",
         "79212.0",
         "automatic",
         "sedan",
         "white",
         null,
         "2018-12-27",
         "73"
        ],
        [
         "7",
         "15990",
         "2013.0",
         "honda pilot",
         "excellent",
         "6.0",
         "gas",
         "109473.0",
         "automatic",
         "SUV",
         "black",
         "1.0",
         "2019-01-07",
         "68"
        ],
        [
         "8",
         "11500",
         "2012.0",
         "kia sorento",
         "excellent",
         "4.0",
         "gas",
         "104174.0",
         "automatic",
         "SUV",
         null,
         "1.0",
         "2018-07-16",
         "19"
        ],
        [
         "9",
         "9200",
         "2008.0",
         "honda pilot",
         "excellent",
         null,
         "gas",
         "147191.0",
         "automatic",
         "SUV",
         "blue",
         "1.0",
         "2019-02-15",
         "17"
        ],
        [
         "10",
         "19500",
         "2011.0",
         "chevrolet silverado 1500",
         "excellent",
         "8.0",
         "gas",
         "128413.0",
         "automatic",
         "pickup",
         "black",
         "1.0",
         "2018-09-17",
         "38"
        ],
        [
         "11",
         "8990",
         "2012.0",
         "honda accord",
         "excellent",
         "4.0",
         "gas",
         "111142.0",
         "automatic",
         "sedan",
         "grey",
         null,
         "2019-03-28",
         "29"
        ],
        [
         "12",
         "18990",
         "2012.0",
         "ram 1500",
         "excellent",
         "8.0",
         "gas",
         "140742.0",
         "automatic",
         "pickup",
         null,
         "1.0",
         "2019-04-02",
         "37"
        ],
        [
         "13",
         "16500",
         "2018.0",
         "hyundai sonata",
         "excellent",
         "4.0",
         "gas",
         "22104.0",
         "automatic",
         "sedan",
         "silver",
         null,
         "2019-01-14",
         "29"
        ],
        [
         "14",
         "12990",
         "2009.0",
         "gmc yukon",
         "excellent",
         "8.0",
         "gas",
         "132285.0",
         "automatic",
         "SUV",
         "black",
         "1.0",
         "2019-01-31",
         "24"
        ],
        [
         "15",
         "17990",
         "2013.0",
         "ram 1500",
         "excellent",
         "8.0",
         "gas",
         null,
         "automatic",
         "pickup",
         "red",
         "1.0",
         "2018-05-15",
         "111"
        ],
        [
         "16",
         "14990",
         "2010.0",
         "ram 1500",
         "excellent",
         "8.0",
         "gas",
         "130725.0",
         "automatic",
         "pickup",
         "red",
         "1.0",
         "2018-12-30",
         "13"
        ],
        [
         "17",
         "13990",
         "2014.0",
         "jeep cherokee",
         "excellent",
         "6.0",
         "gas",
         "100669.0",
         "automatic",
         "SUV",
         "red",
         "1.0",
         "2018-08-16",
         "25"
        ],
        [
         "18",
         "12500",
         "2013.0",
         "chevrolet traverse",
         "excellent",
         "6.0",
         "gas",
         "128325.0",
         "automatic",
         "SUV",
         "white",
         "1.0",
         "2019-04-09",
         "13"
        ],
        [
         "19",
         "13990",
         "2018.0",
         "hyundai elantra",
         "excellent",
         "4.0",
         "gas",
         "31932.0",
         "automatic",
         "sedan",
         "red",
         null,
         "2018-08-25",
         "27"
        ],
        [
         "20",
         "6990",
         null,
         "chevrolet tahoe",
         "excellent",
         "8.0",
         "gas",
         "147485.0",
         "automatic",
         "SUV",
         "silver",
         "1.0",
         "2018-08-05",
         "28"
        ],
        [
         "21",
         "5250",
         "2007.0",
         "toyota rav4",
         "good",
         "6.0",
         "gas",
         "154000.0",
         "automatic",
         "SUV",
         null,
         null,
         "2018-08-22",
         "8"
        ],
        [
         "22",
         "7500",
         "2004.0",
         "chevrolet silverado",
         "like new",
         "8.0",
         "gas",
         "180000.0",
         "automatic",
         "truck",
         "red",
         "1.0",
         "2019-01-05",
         "64"
        ],
        [
         "23",
         "7500",
         "2004.0",
         "jeep wrangler",
         "good",
         "6.0",
         "gas",
         null,
         "automatic",
         "SUV",
         "red",
         "1.0",
         "2018-05-17",
         "39"
        ],
        [
         "24",
         "3950",
         "2009.0",
         "chrysler 200",
         "excellent",
         "4.0",
         "gas",
         null,
         "automatic",
         "sedan",
         "red",
         null,
         "2018-06-11",
         "40"
        ],
        [
         "25",
         "11499",
         "2017.0",
         "chevrolet malibu",
         "like new",
         "4.0",
         "gas",
         null,
         "automatic",
         "sedan",
         null,
         null,
         "2018-07-26",
         "43"
        ],
        [
         "26",
         "8499",
         "2014.0",
         "ford fusion se",
         "like new",
         "4.0",
         "gas",
         "79523.0",
         "automatic",
         "sedan",
         "red",
         null,
         "2018-10-25",
         "23"
        ],
        [
         "27",
         "12999",
         "2015.0",
         "chevrolet impala",
         "like new",
         "6.0",
         "gas",
         "39368.0",
         "automatic",
         "sedan",
         "custom",
         null,
         "2018-05-19",
         "42"
        ],
        [
         "28",
         "29800",
         "2012.0",
         "chevrolet corvette",
         "excellent",
         "8.0",
         "gas",
         "57413.0",
         "automatic",
         "coupe",
         "orange",
         null,
         "2018-10-22",
         "101"
        ],
        [
         "29",
         "5495",
         "2010.0",
         "chevrolet impala",
         "excellent",
         "6.0",
         "gas",
         null,
         "automatic",
         "sedan",
         "white",
         null,
         "2019-02-18",
         "20"
        ],
        [
         "30",
         "5000",
         "2009.0",
         "jeep liberty",
         "good",
         "6.0",
         "gas",
         "137273.0",
         "automatic",
         "SUV",
         "white",
         "1.0",
         "2019-02-19",
         "14"
        ],
        [
         "31",
         "11999",
         "2017.0",
         "toyota camry le",
         "excellent",
         "4.0",
         "gas",
         "35721.0",
         "automatic",
         "sedan",
         null,
         null,
         "2018-09-13",
         "25"
        ],
        [
         "32",
         "9499",
         "2015.0",
         "nissan altima",
         "like new",
         "4.0",
         "gas",
         "51848.0",
         "automatic",
         "sedan",
         "grey",
         null,
         "2018-11-12",
         "7"
        ],
        [
         "33",
         "3890",
         "2011.0",
         "subaru outback",
         "excellent",
         "4.0",
         "gas",
         "300000.0",
         "automatic",
         "SUV",
         "white",
         "1.0",
         "2018-12-25",
         "31"
        ],
        [
         "34",
         "9500",
         "2008.0",
         "toyota highlander",
         "good",
         "6.0",
         "gas",
         "149799.0",
         "automatic",
         "SUV",
         null,
         null,
         "2018-06-04",
         "121"
        ],
        [
         "35",
         "14999",
         "2015.0",
         "dodge charger",
         "good",
         "6.0",
         "gas",
         "63037.0",
         "automatic",
         "sedan",
         null,
         null,
         "2018-05-11",
         "37"
        ],
        [
         "36",
         "10499",
         "2013.0",
         "chrysler 300",
         "good",
         null,
         "gas",
         "88042.0",
         "automatic",
         "sedan",
         null,
         null,
         "2018-05-05",
         "22"
        ],
        [
         "37",
         "7500",
         "2005.0",
         "toyota tacoma",
         "good",
         null,
         "gas",
         "160000.0",
         "automatic",
         "pickup",
         null,
         null,
         "2018-07-22",
         "44"
        ],
        [
         "38",
         "7999",
         "2015.0",
         "chrysler 200",
         "good",
         "4.0",
         "gas",
         null,
         "automatic",
         "sedan",
         null,
         null,
         "2019-03-08",
         "29"
        ],
        [
         "39",
         "8000",
         "2009.0",
         "ford f-150",
         "good",
         "8.0",
         "gas",
         "234000.0",
         "automatic",
         "truck",
         "black",
         "1.0",
         "2019-03-31",
         "1"
        ],
        [
         "40",
         "11499",
         "2017.0",
         "chevrolet equinox",
         "like new",
         "4.0",
         "gas",
         "54772.0",
         "automatic",
         "SUV",
         "grey",
         "1.0",
         "2019-01-12",
         "36"
        ],
        [
         "41",
         "11995",
         "2017.0",
         "nissan rogue",
         "like new",
         "4.0",
         "gas",
         null,
         "automatic",
         "SUV",
         "silver",
         "1.0",
         "2018-09-20",
         "21"
        ],
        [
         "42",
         "34900",
         "2013.0",
         "mercedes-benz benze sprinter 2500",
         "excellent",
         "6.0",
         "diesel",
         null,
         "automatic",
         "van",
         "black",
         null,
         "2019-01-15",
         "16"
        ],
        [
         "43",
         "5100",
         "2008.0",
         "honda cr-v",
         "excellent",
         "4.0",
         "gas",
         "188000.0",
         "automatic",
         "SUV",
         "red",
         "1.0",
         "2018-11-18",
         "10"
        ],
        [
         "44",
         "4500",
         "2004.0",
         "jeep grand cherokee",
         "good",
         "6.0",
         "gas",
         "168821.0",
         "automatic",
         "SUV",
         null,
         "1.0",
         "2019-01-31",
         "60"
        ],
        [
         "45",
         "2400",
         "2001.0",
         "toyota camry",
         "good",
         "4.0",
         "gas",
         "277564.0",
         "automatic",
         "coupe",
         "yellow",
         null,
         "2018-05-27",
         "51"
        ],
        [
         "46",
         "11200",
         "2015.0",
         "dodge charger",
         "excellent",
         "6.0",
         "gas",
         "90302.0",
         "automatic",
         "sedan",
         "black",
         "1.0",
         "2018-07-19",
         "73"
        ],
        [
         "47",
         "12500",
         "2008.0",
         "toyota 4runner",
         "good",
         "6.0",
         "gas",
         "141098.0",
         "automatic",
         "SUV",
         "grey",
         null,
         "2019-03-10",
         "35"
        ],
        [
         "48",
         "9500",
         "2014.0",
         "ford focus",
         "excellent",
         "4.0",
         "diesel",
         "46000.0",
         "automatic",
         "sedan",
         null,
         null,
         "2018-10-09",
         "24"
        ],
        [
         "49",
         "3200",
         "2006.0",
         "honda civic",
         "excellent",
         "4.0",
         "gas",
         "255390.0",
         "automatic",
         "sedan",
         "blue",
         null,
         "2018-10-18",
         "23"
        ]
       ],
       "shape": {
        "columns": 13,
        "rows": 51525
       }
      },
      "text/html": [
       "<div>\n",
       "<style scoped>\n",
       "    .dataframe tbody tr th:only-of-type {\n",
       "        vertical-align: middle;\n",
       "    }\n",
       "\n",
       "    .dataframe tbody tr th {\n",
       "        vertical-align: top;\n",
       "    }\n",
       "\n",
       "    .dataframe thead th {\n",
       "        text-align: right;\n",
       "    }\n",
       "</style>\n",
       "<table border=\"1\" class=\"dataframe\">\n",
       "  <thead>\n",
       "    <tr style=\"text-align: right;\">\n",
       "      <th></th>\n",
       "      <th>price</th>\n",
       "      <th>model_year</th>\n",
       "      <th>model</th>\n",
       "      <th>condition</th>\n",
       "      <th>cylinders</th>\n",
       "      <th>fuel</th>\n",
       "      <th>odometer</th>\n",
       "      <th>transmission</th>\n",
       "      <th>type</th>\n",
       "      <th>paint_color</th>\n",
       "      <th>is_4wd</th>\n",
       "      <th>date_posted</th>\n",
       "      <th>days_listed</th>\n",
       "    </tr>\n",
       "  </thead>\n",
       "  <tbody>\n",
       "    <tr>\n",
       "      <th>0</th>\n",
       "      <td>9400</td>\n",
       "      <td>2011.0</td>\n",
       "      <td>bmw x5</td>\n",
       "      <td>good</td>\n",
       "      <td>6.0</td>\n",
       "      <td>gas</td>\n",
       "      <td>145000.0</td>\n",
       "      <td>automatic</td>\n",
       "      <td>SUV</td>\n",
       "      <td>NaN</td>\n",
       "      <td>1.0</td>\n",
       "      <td>2018-06-23</td>\n",
       "      <td>19</td>\n",
       "    </tr>\n",
       "    <tr>\n",
       "      <th>1</th>\n",
       "      <td>25500</td>\n",
       "      <td>NaN</td>\n",
       "      <td>ford f-150</td>\n",
       "      <td>good</td>\n",
       "      <td>6.0</td>\n",
       "      <td>gas</td>\n",
       "      <td>88705.0</td>\n",
       "      <td>automatic</td>\n",
       "      <td>pickup</td>\n",
       "      <td>white</td>\n",
       "      <td>1.0</td>\n",
       "      <td>2018-10-19</td>\n",
       "      <td>50</td>\n",
       "    </tr>\n",
       "    <tr>\n",
       "      <th>2</th>\n",
       "      <td>5500</td>\n",
       "      <td>2013.0</td>\n",
       "      <td>hyundai sonata</td>\n",
       "      <td>like new</td>\n",
       "      <td>4.0</td>\n",
       "      <td>gas</td>\n",
       "      <td>110000.0</td>\n",
       "      <td>automatic</td>\n",
       "      <td>sedan</td>\n",
       "      <td>red</td>\n",
       "      <td>NaN</td>\n",
       "      <td>2019-02-07</td>\n",
       "      <td>79</td>\n",
       "    </tr>\n",
       "    <tr>\n",
       "      <th>3</th>\n",
       "      <td>1500</td>\n",
       "      <td>2003.0</td>\n",
       "      <td>ford f-150</td>\n",
       "      <td>fair</td>\n",
       "      <td>8.0</td>\n",
       "      <td>gas</td>\n",
       "      <td>NaN</td>\n",
       "      <td>automatic</td>\n",
       "      <td>pickup</td>\n",
       "      <td>NaN</td>\n",
       "      <td>NaN</td>\n",
       "      <td>2019-03-22</td>\n",
       "      <td>9</td>\n",
       "    </tr>\n",
       "    <tr>\n",
       "      <th>4</th>\n",
       "      <td>14900</td>\n",
       "      <td>2017.0</td>\n",
       "      <td>chrysler 200</td>\n",
       "      <td>excellent</td>\n",
       "      <td>4.0</td>\n",
       "      <td>gas</td>\n",
       "      <td>80903.0</td>\n",
       "      <td>automatic</td>\n",
       "      <td>sedan</td>\n",
       "      <td>black</td>\n",
       "      <td>NaN</td>\n",
       "      <td>2019-04-02</td>\n",
       "      <td>28</td>\n",
       "    </tr>\n",
       "    <tr>\n",
       "      <th>...</th>\n",
       "      <td>...</td>\n",
       "      <td>...</td>\n",
       "      <td>...</td>\n",
       "      <td>...</td>\n",
       "      <td>...</td>\n",
       "      <td>...</td>\n",
       "      <td>...</td>\n",
       "      <td>...</td>\n",
       "      <td>...</td>\n",
       "      <td>...</td>\n",
       "      <td>...</td>\n",
       "      <td>...</td>\n",
       "      <td>...</td>\n",
       "    </tr>\n",
       "    <tr>\n",
       "      <th>51520</th>\n",
       "      <td>9249</td>\n",
       "      <td>2013.0</td>\n",
       "      <td>nissan maxima</td>\n",
       "      <td>like new</td>\n",
       "      <td>6.0</td>\n",
       "      <td>gas</td>\n",
       "      <td>88136.0</td>\n",
       "      <td>automatic</td>\n",
       "      <td>sedan</td>\n",
       "      <td>black</td>\n",
       "      <td>NaN</td>\n",
       "      <td>2018-10-03</td>\n",
       "      <td>37</td>\n",
       "    </tr>\n",
       "    <tr>\n",
       "      <th>51521</th>\n",
       "      <td>2700</td>\n",
       "      <td>2002.0</td>\n",
       "      <td>honda civic</td>\n",
       "      <td>salvage</td>\n",
       "      <td>4.0</td>\n",
       "      <td>gas</td>\n",
       "      <td>181500.0</td>\n",
       "      <td>automatic</td>\n",
       "      <td>sedan</td>\n",
       "      <td>white</td>\n",
       "      <td>NaN</td>\n",
       "      <td>2018-11-14</td>\n",
       "      <td>22</td>\n",
       "    </tr>\n",
       "    <tr>\n",
       "      <th>51522</th>\n",
       "      <td>3950</td>\n",
       "      <td>2009.0</td>\n",
       "      <td>hyundai sonata</td>\n",
       "      <td>excellent</td>\n",
       "      <td>4.0</td>\n",
       "      <td>gas</td>\n",
       "      <td>128000.0</td>\n",
       "      <td>automatic</td>\n",
       "      <td>sedan</td>\n",
       "      <td>blue</td>\n",
       "      <td>NaN</td>\n",
       "      <td>2018-11-15</td>\n",
       "      <td>32</td>\n",
       "    </tr>\n",
       "    <tr>\n",
       "      <th>51523</th>\n",
       "      <td>7455</td>\n",
       "      <td>2013.0</td>\n",
       "      <td>toyota corolla</td>\n",
       "      <td>good</td>\n",
       "      <td>4.0</td>\n",
       "      <td>gas</td>\n",
       "      <td>139573.0</td>\n",
       "      <td>automatic</td>\n",
       "      <td>sedan</td>\n",
       "      <td>black</td>\n",
       "      <td>NaN</td>\n",
       "      <td>2018-07-02</td>\n",
       "      <td>71</td>\n",
       "    </tr>\n",
       "    <tr>\n",
       "      <th>51524</th>\n",
       "      <td>6300</td>\n",
       "      <td>2014.0</td>\n",
       "      <td>nissan altima</td>\n",
       "      <td>good</td>\n",
       "      <td>4.0</td>\n",
       "      <td>gas</td>\n",
       "      <td>NaN</td>\n",
       "      <td>automatic</td>\n",
       "      <td>sedan</td>\n",
       "      <td>NaN</td>\n",
       "      <td>NaN</td>\n",
       "      <td>2018-06-05</td>\n",
       "      <td>10</td>\n",
       "    </tr>\n",
       "  </tbody>\n",
       "</table>\n",
       "<p>51525 rows × 13 columns</p>\n",
       "</div>"
      ],
      "text/plain": [
       "       price  model_year           model  condition  cylinders fuel  odometer transmission    type paint_color  is_4wd date_posted  days_listed\n",
       "0       9400      2011.0          bmw x5       good        6.0  gas  145000.0    automatic     SUV         NaN     1.0  2018-06-23           19\n",
       "1      25500         NaN      ford f-150       good        6.0  gas   88705.0    automatic  pickup       white     1.0  2018-10-19           50\n",
       "2       5500      2013.0  hyundai sonata   like new        4.0  gas  110000.0    automatic   sedan         red     NaN  2019-02-07           79\n",
       "3       1500      2003.0      ford f-150       fair        8.0  gas       NaN    automatic  pickup         NaN     NaN  2019-03-22            9\n",
       "4      14900      2017.0    chrysler 200  excellent        4.0  gas   80903.0    automatic   sedan       black     NaN  2019-04-02           28\n",
       "...      ...         ...             ...        ...        ...  ...       ...          ...     ...         ...     ...         ...          ...\n",
       "51520   9249      2013.0   nissan maxima   like new        6.0  gas   88136.0    automatic   sedan       black     NaN  2018-10-03           37\n",
       "51521   2700      2002.0     honda civic    salvage        4.0  gas  181500.0    automatic   sedan       white     NaN  2018-11-14           22\n",
       "51522   3950      2009.0  hyundai sonata  excellent        4.0  gas  128000.0    automatic   sedan        blue     NaN  2018-11-15           32\n",
       "51523   7455      2013.0  toyota corolla       good        4.0  gas  139573.0    automatic   sedan       black     NaN  2018-07-02           71\n",
       "51524   6300      2014.0   nissan altima       good        4.0  gas       NaN    automatic   sedan         NaN     NaN  2018-06-05           10\n",
       "\n",
       "[51525 rows x 13 columns]"
      ]
     },
     "execution_count": 3,
     "metadata": {},
     "output_type": "execute_result"
    }
   ],
   "source": [
    "df_vehicles"
   ]
  },
  {
   "cell_type": "markdown",
   "id": "e987d4da",
   "metadata": {},
   "source": [
    "#### 3.1.1 Descriptive statistics for Distribution of prices and mileage"
   ]
  },
  {
   "cell_type": "code",
   "execution_count": null,
   "id": "3e258c92",
   "metadata": {},
   "outputs": [
    {
     "data": {
      "application/vnd.jupyter.widget-view+json": {
       "model_id": "6a021ed01e804e7ea8b1d2bd61a022bc",
       "version_major": 2,
       "version_minor": 0
      },
      "text/plain": [
       "interactive(children=(RadioButtons(description='View:', index=2, options=('Price only', 'Odometer only', 'Both…"
      ]
     },
     "metadata": {},
     "output_type": "display_data"
    },
    {
     "data": {
      "text/plain": [
       "<function __main__.update_graph(view_mode)>"
      ]
     },
     "execution_count": 15,
     "metadata": {},
     "output_type": "execute_result"
    }
   ],
   "source": [
    "# Selection widget: view mode\n",
    "view_selector = widgets.RadioButtons(\n",
    "    options=['Price only', 'Odometer only', 'Both'], value='Both', description='View:')\n",
    "\n",
    "\n",
    "# Selection widget: view mode\n",
    "view_selector = widgets.RadioButtons(\n",
    "    options=['Price only', 'Odometer only', 'Both'], value='Both', description='View:')\n",
    "\n",
    "# Update function\n",
    "\n",
    "\n",
    "def update_graph(view_mode):\n",
    "\n",
    "    if view_mode == 'Price only':\n",
    "\n",
    "        fig = px.histogram(df_vehicles, x='price', nbins=50, title='Price Distribution',\n",
    "                           color_discrete_sequence=['grey'])\n",
    "\n",
    "    elif view_mode == 'Odometer only':\n",
    "\n",
    "        fig = px.histogram(df_vehicles, x='odometer', nbins=50, title='Odometer Distribution',\n",
    "                           color_discrete_sequence=['grey'])\n",
    "\n",
    "    else:\n",
    "\n",
    "        # Combined in subplots\n",
    "        fig_price = px.histogram(df_vehicles, x='price', nbins=50,\n",
    "                                 color_discrete_sequence=['grey'])\n",
    "        fig_odometer = px.histogram(df_vehicles, x='odometer', nbins=50,\n",
    "                                    color_discrete_sequence=['grey'])\n",
    "\n",
    "        fig = make_subplots(\n",
    "            rows=1, cols=2, subplot_titles=(\"Price\", \"Odometer\"))\n",
    "        fig.add_trace(fig_price.data[0], row=1, col=1)\n",
    "        fig.add_trace(fig_odometer.data[0], row=1, col=2)\n",
    "        fig.update_layout(\n",
    "            title_text=\"Distribution of Price and Odometer\", showlegend=False)\n",
    "\n",
    "    fig.show()\n",
    "\n",
    "\n",
    "# Run interactive display\n",
    "widgets.interact(update_graph, view_mode=view_selector)"
   ]
  },
  {
   "cell_type": "markdown",
   "id": "07bbab95",
   "metadata": {},
   "source": [
    "#### 3.1.2 Descriptive statistics for Comparison by vehicle type or condition"
   ]
  },
  {
   "cell_type": "code",
   "execution_count": null,
   "id": "fb44f2ee",
   "metadata": {},
   "outputs": [
    {
     "data": {
      "application/vnd.jupyter.widget-view+json": {
       "model_id": "96fc331f2e494f1bb64f62ef0cca2b39",
       "version_major": 2,
       "version_minor": 0
      },
      "text/plain": [
       "interactive(children=(Dropdown(description='Compare by:', options=(('Vehicle Type', 'type'), ('Condition', 'co…"
      ]
     },
     "metadata": {},
     "output_type": "display_data"
    },
    {
     "data": {
      "text/plain": [
       "<function __main__.update_bar_chart(group_by_col)>"
      ]
     },
     "execution_count": 13,
     "metadata": {},
     "output_type": "execute_result"
    }
   ],
   "source": [
    "# Dropdown widget: compare by 'type' or 'condition'\n",
    "compare_selector = widgets.Dropdown(options=[('Vehicle Type', 'type'), (\n",
    "    'Condition', 'condition')], value='type', description='Compare by:')\n",
    "\n",
    "# Update function for bar chart\n",
    "\n",
    "\n",
    "def update_bar_chart(group_by_col):\n",
    "\n",
    "    # Group and count\n",
    "    grouped = df_vehicles[group_by_col].value_counts().reset_index()\n",
    "    grouped.columns = [group_by_col, 'count']\n",
    "\n",
    "    # Create bar chart\n",
    "    fig = px.bar(grouped, x=group_by_col, y='count', title=f'Number of Listings by {group_by_col.capitalize()}',\n",
    "                 labels={group_by_col: group_by_col.capitalize(), 'count': 'Listings'}, color_discrete_sequence=['grey'])\n",
    "    fig.update_layout(xaxis={'categoryorder': 'total descending'})\n",
    "    fig.show()\n",
    "\n",
    "\n",
    "# Interactive widget display\n",
    "widgets.interact(update_bar_chart, group_by_col=compare_selector)"
   ]
  },
  {
   "cell_type": "markdown",
   "id": "bc0839dd",
   "metadata": {},
   "source": [
    "#### 3.1.3 Descriptive statistics for Scatter plots for price vs. model year or mileage"
   ]
  },
  {
   "cell_type": "code",
   "execution_count": null,
   "id": "c652fe11",
   "metadata": {},
   "outputs": [
    {
     "data": {
      "application/vnd.jupyter.widget-view+json": {
       "model_id": "ed93a2c13a20420b8373fa66b825fe4b",
       "version_major": 2,
       "version_minor": 0
      },
      "text/plain": [
       "interactive(children=(Dropdown(description='X-axis:', options=(('Model Year', 'model_year'), ('Mileage (Odomet…"
      ]
     },
     "metadata": {},
     "output_type": "display_data"
    },
    {
     "data": {
      "text/plain": [
       "<function __main__.update_scatter(x_axis)>"
      ]
     },
     "execution_count": 12,
     "metadata": {},
     "output_type": "execute_result"
    }
   ],
   "source": [
    "# Dropdown for choosing x-axis\n",
    "xaxis_selector = widgets.Dropdown(options=[('Model Year', 'model_year'), ('Mileage (Odometer)', 'odometer')], value='model_year',\n",
    "                                  description='X-axis:')\n",
    "\n",
    "# Update function\n",
    "\n",
    "\n",
    "def update_scatter(x_axis):\n",
    "\n",
    "    fig = px.scatter(df_vehicles, x=x_axis, y='price', title=f'Price vs. {x_axis.replace(\"_\", \" \").title()}',\n",
    "                     labels={x_axis: x_axis.replace(\"_\", \" \").title(), 'price': 'Price'}, opacity=0.6,\n",
    "                     hover_data=['model', 'condition', 'fuel'], color_discrete_sequence=['grey'])\n",
    "\n",
    "    fig.show()\n",
    "\n",
    "\n",
    "# Display the interactive widget\n",
    "widgets.interact(update_scatter, x_axis=xaxis_selector)"
   ]
  },
  {
   "cell_type": "markdown",
   "id": "df5f5a55",
   "metadata": {},
   "source": [
    "#### 3.1.4 Descriptive statistics for Price Trends Over Time"
   ]
  },
  {
   "cell_type": "code",
   "execution_count": null,
   "id": "ff78eb4d",
   "metadata": {},
   "outputs": [
    {
     "data": {
      "application/vnd.jupyter.widget-view+json": {
       "model_id": "271d9bbf03ab4bfb8debf79fa9feadc3",
       "version_major": 2,
       "version_minor": 0
      },
      "text/plain": [
       "interactive(children=(Dropdown(description='Aggregate:', options=(('Mean', 'mean'), ('Median', 'median')), val…"
      ]
     },
     "metadata": {},
     "output_type": "display_data"
    },
    {
     "data": {
      "text/plain": [
       "<function __main__.update_price_trend(agg_func)>"
      ]
     },
     "execution_count": 18,
     "metadata": {},
     "output_type": "execute_result"
    }
   ],
   "source": [
    "# Dropdown widget for aggregation method\n",
    "agg_selector = widgets.Dropdown(options=[(\n",
    "    'Mean', 'mean'), ('Median', 'median')], value='mean', description='Aggregate:')\n",
    "\n",
    "# Update function\n",
    "\n",
    "\n",
    "def update_price_trend(agg_func):\n",
    "\n",
    "    df_filtered = df_vehicles.dropna(subset=['model_year', 'price'])\n",
    "\n",
    "    if agg_func == 'mean':\n",
    "\n",
    "        grouped = df_filtered.groupby('model_year')[\n",
    "            'price'].mean().reset_index()\n",
    "\n",
    "    else:\n",
    "\n",
    "        grouped = df_filtered.groupby('model_year')[\n",
    "            'price'].median().reset_index()\n",
    "\n",
    "    fig = px.line(grouped, x='model_year', y='price', title=f'Average Price by Model Year ({agg_func.title()})', markers=True,\n",
    "                  labels={'model_year': 'Model Year', 'price': 'Price'}, color_discrete_sequence=['grey'])\n",
    "    fig.show()\n",
    "\n",
    "\n",
    "# Display the interactive widget\n",
    "widgets.interact(update_price_trend, agg_func=agg_selector)"
   ]
  },
  {
   "cell_type": "markdown",
   "id": "53d72753",
   "metadata": {},
   "source": [
    "#### 3.1.5 Descriptive statistics for Condition Impact"
   ]
  },
  {
   "cell_type": "code",
   "execution_count": null,
   "id": "85c41c48",
   "metadata": {},
   "outputs": [
    {
     "data": {
      "application/vnd.jupyter.widget-view+json": {
       "model_id": "08c62f44bcc44bab8a836faa2a72e782",
       "version_major": 2,
       "version_minor": 0
      },
      "text/plain": [
       "interactive(children=(Dropdown(description='Group by:', options=(('Model', 'model'),), value='model'), IntSlid…"
      ]
     },
     "metadata": {},
     "output_type": "display_data"
    },
    {
     "data": {
      "text/plain": [
       "<function __main__.update_condition_impact(group_col, top_n)>"
      ]
     },
     "execution_count": 22,
     "metadata": {},
     "output_type": "execute_result"
    }
   ],
   "source": [
    "# Dropdown: Group by model or brand (if 'brand' is a separate column; otherwise use 'model')\n",
    "group_selector = widgets.Dropdown(\n",
    "    options=[('Model', 'model')], value='model', description='Group by:')\n",
    "\n",
    "# Slider for top N entries\n",
    "top_n_slider = widgets.IntSlider(\n",
    "    value=10, min=5, max=30, step=1, description='Top N Models:')\n",
    "\n",
    "# Update function\n",
    "\n",
    "\n",
    "def update_condition_impact(group_col, top_n):\n",
    "\n",
    "    df_filtered = df_vehicles.dropna(subset=[group_col, 'condition', 'price'])\n",
    "\n",
    "    # Compute average price\n",
    "    grouped = df_filtered.groupby([group_col, 'condition'])[\n",
    "        'price'].mean().reset_index()\n",
    "\n",
    "    # Filter top N by total listing count to avoid clutter\n",
    "    top_models = df_filtered[group_col].value_counts().nlargest(top_n).index\n",
    "    grouped = grouped[grouped[group_col].isin(top_models)]\n",
    "\n",
    "    fig = px.bar(grouped, x=group_col, y='price', color='condition', barmode='group',\n",
    "                 title=f'Average Price by {group_col.capitalize()} and Condition',\n",
    "                 labels={group_col: group_col.capitalize(\n",
    "                 ), 'price': 'Average Price', 'condition': 'Condition'},\n",
    "                 color_discrete_sequence=['#e0e0e0', '#d9d9d9', '#bfbfbf', '#a6a6a6', '#7f7f7f', \"#555555\"])\n",
    "    fig.show()\n",
    "\n",
    "\n",
    "# Interactive widget\n",
    "widgets.interact(update_condition_impact,\n",
    "                 group_col=group_selector, top_n=top_n_slider)"
   ]
  },
  {
   "cell_type": "markdown",
   "id": "ded414fd",
   "metadata": {},
   "source": [
    "#### 3.1.6 Descriptive statistics for Brand vs. Price"
   ]
  },
  {
   "cell_type": "code",
   "execution_count": 23,
   "id": "1b941bd6",
   "metadata": {},
   "outputs": [],
   "source": [
    "# Extract brand from model (if brand column doesn't exist)\n",
    "df_vehicles['brand'] = df_vehicles['model'].str.split().str[0]"
   ]
  },
  {
   "cell_type": "code",
   "execution_count": null,
   "id": "a0cf55ee",
   "metadata": {},
   "outputs": [
    {
     "data": {
      "application/vnd.jupyter.widget-view+json": {
       "model_id": "cf8519a40957430aa0081dafc15e8459",
       "version_major": 2,
       "version_minor": 0
      },
      "text/plain": [
       "interactive(children=(IntSlider(value=10, description='Top N Brands:', max=30, min=5), Output()), _dom_classes…"
      ]
     },
     "metadata": {},
     "output_type": "display_data"
    },
    {
     "data": {
      "text/plain": [
       "<function __main__.update_brand_price_chart(top_n)>"
      ]
     },
     "execution_count": 24,
     "metadata": {},
     "output_type": "execute_result"
    }
   ],
   "source": [
    "# Slider for top N brands\n",
    "top_n_slider = widgets.IntSlider(\n",
    "    value=10, min=5, max=30, step=1, description='Top N Brands:')\n",
    "\n",
    "# Update function\n",
    "\n",
    "\n",
    "def update_brand_price_chart(top_n):\n",
    "\n",
    "    df_clean = df_vehicles.dropna(subset=['brand', 'price'])\n",
    "\n",
    "    # Get top N brands by count\n",
    "    top_brands = df_clean['brand'].value_counts().nlargest(top_n).index\n",
    "    filtered = df_clean[df_clean['brand'].isin(top_brands)]\n",
    "\n",
    "    # Compute average price\n",
    "    avg_price = filtered.groupby('brand')['price'].mean().reset_index()\n",
    "\n",
    "    fig = px.bar(avg_price, x='brand', y='price', title=f'Average Price by Brand (Top {top_n})',\n",
    "                 labels={'brand': 'Brand', 'price': 'Average Price'}, color_discrete_sequence=['#808080'])\n",
    "    fig.update_layout(xaxis={'categoryorder': 'total descending'})\n",
    "    fig.show()\n",
    "\n",
    "\n",
    "# Display interactive widget\n",
    "widgets.interact(update_brand_price_chart, top_n=top_n_slider)"
   ]
  },
  {
   "cell_type": "markdown",
   "id": "0fd1dd44",
   "metadata": {},
   "source": [
    "#### 3.1.7 Descriptive statistics for Mileage vs. Price (Depreciation Curve)"
   ]
  },
  {
   "cell_type": "code",
   "execution_count": null,
   "id": "75293fcb",
   "metadata": {},
   "outputs": [
    {
     "data": {
      "application/vnd.jupyter.widget-view+json": {
       "model_id": "98be81d285534226be20445bf81fd97d",
       "version_major": 2,
       "version_minor": 0
      },
      "text/plain": [
       "interactive(children=(Dropdown(description='Condition:', options=('All', 'good', 'like new', 'fair', 'excellen…"
      ]
     },
     "metadata": {},
     "output_type": "display_data"
    },
    {
     "data": {
      "text/plain": [
       "<function __main__.update_heatmap(selected_condition)>"
      ]
     },
     "execution_count": 28,
     "metadata": {},
     "output_type": "execute_result"
    }
   ],
   "source": [
    "# Dropdown for filter category\n",
    "filter_selector = widgets.Dropdown(options=['All'] + df_vehicles['condition'].dropna().unique().tolist(), value='All',\n",
    "                                   description='Condition:')\n",
    "\n",
    "# Function to update plot based on condition\n",
    "\n",
    "\n",
    "def update_heatmap(selected_condition):\n",
    "\n",
    "    # Filter\n",
    "    if selected_condition == 'All':\n",
    "\n",
    "        df_filtered = df_vehicles[['odometer', 'price']].dropna()\n",
    "\n",
    "    else:\n",
    "\n",
    "        df_filtered = df_vehicles[df_vehicles['condition'] ==\n",
    "                                  selected_condition][['odometer', 'price']].dropna()\n",
    "\n",
    "    # Remove top 1% outliers\n",
    "    df_filtered = df_filtered[df_filtered['price']\n",
    "                              < df_filtered['price'].quantile(0.99)]\n",
    "    df_filtered = df_filtered[df_filtered['odometer']\n",
    "                              < df_filtered['odometer'].quantile(0.99)]\n",
    "\n",
    "    # Plot\n",
    "    fig = px.density_heatmap(df_filtered, x='odometer', y='price',\n",
    "                             nbinsx=50, nbinsy=50,\n",
    "                             title=f'Price vs. Mileage Heatmap (Condition: {selected_condition})',\n",
    "                             labels={\n",
    "                                 'odometer': 'Mileage (Odometer)', 'price': 'Price'},\n",
    "                             color_continuous_scale='Greys')\n",
    "    fig.show()\n",
    "\n",
    "\n",
    "# Display interactive widget\n",
    "widgets.interact(update_heatmap, selected_condition=filter_selector)"
   ]
  },
  {
   "cell_type": "markdown",
   "id": "2c4478f0",
   "metadata": {},
   "source": [
    "#### 3.1.8 Descriptive statistics for Top Models Sold"
   ]
  },
  {
   "cell_type": "code",
   "execution_count": null,
   "id": "24057f10",
   "metadata": {},
   "outputs": [
    {
     "data": {
      "application/vnd.jupyter.widget-view+json": {
       "model_id": "d3ba79f1406d4744871eaf58d615886c",
       "version_major": 2,
       "version_minor": 0
      },
      "text/plain": [
       "interactive(children=(Dropdown(description='Group by:', options=(('Model', 'model'), ('Brand', 'brand')), valu…"
      ]
     },
     "metadata": {},
     "output_type": "display_data"
    },
    {
     "data": {
      "text/plain": [
       "<function __main__.update_pie_chart(group_by, top_n)>"
      ]
     },
     "execution_count": 35,
     "metadata": {},
     "output_type": "execute_result"
    }
   ],
   "source": [
    "# Dropdown: group by model or brand\n",
    "group_selector = widgets.Dropdown(options=[(\n",
    "    'Model', 'model'), ('Brand', 'brand')], value='model', description='Group by:')\n",
    "\n",
    "# Slider for top N entries\n",
    "top_n_slider = widgets.IntSlider(\n",
    "    value=10, min=5, max=30, step=1, description='Top N:')\n",
    "\n",
    "# Update function\n",
    "\n",
    "\n",
    "def update_pie_chart(group_by, top_n):\n",
    "\n",
    "    df_filtered = df_vehicles.dropna(subset=[group_by])\n",
    "    top_counts = df_filtered[group_by].value_counts().nlargest(\n",
    "        top_n).reset_index()\n",
    "    top_counts.columns = [group_by, 'count']\n",
    "\n",
    "    # Sort ascending to match lighter to lower values\n",
    "    top_counts = top_counts.sort_values('count')\n",
    "\n",
    "    fig = px.pie(top_counts, names=group_by, values='count',\n",
    "                 title=f'Share of Top {top_n} {group_by.capitalize()}s Listed',\n",
    "                 color_discrete_sequence=px.colors.sequential.Greys[3:])\n",
    "\n",
    "    fig.show()\n",
    "\n",
    "\n",
    "# Display interactive widget\n",
    "widgets.interact(update_pie_chart, group_by=group_selector, top_n=top_n_slider)"
   ]
  },
  {
   "cell_type": "markdown",
   "id": "7833a51d",
   "metadata": {},
   "source": [
    "#### 3.1.9 Descriptive statistics for Transmission Type Analysis"
   ]
  },
  {
   "cell_type": "code",
   "execution_count": null,
   "id": "b7e0e409",
   "metadata": {},
   "outputs": [
    {
     "data": {
      "application/vnd.jupyter.widget-view+json": {
       "model_id": "34972ea149a442af8f77fae95f5bb151",
       "version_major": 2,
       "version_minor": 0
      },
      "text/plain": [
       "interactive(children=(Dropdown(description='Aggregate:', options=(('Mean', 'mean'), ('Median', 'median')), val…"
      ]
     },
     "metadata": {},
     "output_type": "display_data"
    },
    {
     "data": {
      "text/plain": [
       "<function __main__.update_price_by_trans(agg_func)>"
      ]
     },
     "execution_count": 37,
     "metadata": {},
     "output_type": "execute_result"
    }
   ],
   "source": [
    "# Dropdown to select aggregation method\n",
    "agg_selector = widgets.Dropdown(options=[(\n",
    "    'Mean', 'mean'), ('Median', 'median')], value='mean', description='Aggregate:')\n",
    "\n",
    "# Update function\n",
    "\n",
    "\n",
    "def update_price_by_trans(agg_func):\n",
    "\n",
    "    df_trans = df_vehicles.dropna(subset=['transmission', 'price'])\n",
    "\n",
    "    # Group by and calculate aggregation\n",
    "    if agg_func == 'mean':\n",
    "\n",
    "        grouped = df_trans.groupby('transmission')[\n",
    "            'price'].mean().reset_index()\n",
    "\n",
    "    else:\n",
    "\n",
    "        grouped = df_trans.groupby('transmission')[\n",
    "            'price'].median().reset_index()\n",
    "\n",
    "    grouped = grouped.sort_values('price', ascending=True)\n",
    "\n",
    "    # Horizontal bar chart\n",
    "    fig = px.bar(grouped, y='transmission', x='price',\n",
    "                 orientation='h',\n",
    "                 title=f'{agg_func.title()} Price by Transmission Type',\n",
    "                 labels={'transmission': 'Transmission',\n",
    "                         'price': f'{agg_func.title()} Price'},\n",
    "                 color_discrete_sequence=['#808080'])\n",
    "\n",
    "    fig.update_layout(yaxis=dict(categoryorder='total ascending'))\n",
    "    fig.show()\n",
    "\n",
    "\n",
    "# Display widget\n",
    "widgets.interact(update_price_by_trans, agg_func=agg_selector)"
   ]
  },
  {
   "cell_type": "markdown",
   "id": "5fed0911",
   "metadata": {},
   "source": [
    "#### 3.1.10 Descriptive statistics for Fuel Type Preference"
   ]
  },
  {
   "cell_type": "code",
   "execution_count": null,
   "id": "04337453",
   "metadata": {},
   "outputs": [
    {
     "data": {
      "application/vnd.jupyter.widget-view+json": {
       "model_id": "5b67796b4a5545f89a1e16f2bcd62425",
       "version_major": 2,
       "version_minor": 0
      },
      "text/plain": [
       "interactive(children=(SelectMultiple(description='Fuel Types:', index=(0, 1, 4, 3), layout=Layout(width='50%')…"
      ]
     },
     "metadata": {},
     "output_type": "display_data"
    },
    {
     "data": {
      "text/plain": [
       "<function __main__.update_fuel_price_distribution(selected_fuels)>"
      ]
     },
     "execution_count": 39,
     "metadata": {},
     "output_type": "execute_result"
    }
   ],
   "source": [
    "# Dropdown for selecting aggregation focus (optionally)\n",
    "fuel_selector = widgets.SelectMultiple(options=df_vehicles['fuel'].dropna().unique().tolist(), value=['gas', 'diesel', 'electric', 'hybrid'],\n",
    "                                       description='Fuel Types:', layout=widgets.Layout(width='50%'), style={'description_width': 'initial'})\n",
    "\n",
    "# Update function\n",
    "\n",
    "\n",
    "def update_fuel_price_distribution(selected_fuels):\n",
    "\n",
    "    df_filtered = df_vehicles[df_vehicles['fuel'].isin(\n",
    "        selected_fuels)].dropna(subset=['price', 'fuel'])\n",
    "\n",
    "    # Remove top outliers for better scale (optional)\n",
    "    df_filtered = df_filtered[df_filtered['price']\n",
    "                              < df_filtered['price'].quantile(0.99)]\n",
    "\n",
    "    fig = px.box(df_filtered, x='fuel', y='price',\n",
    "                 title='Price Distribution by Fuel Type',\n",
    "                 labels={'fuel': 'Fuel Type', 'price': 'Price'},\n",
    "                 color='fuel', color_discrete_sequence=px.colors.sequential.Blackbody)\n",
    "\n",
    "    fig.update_layout(xaxis_title='Fuel Type', yaxis_title='Price')\n",
    "    fig.show()\n",
    "\n",
    "\n",
    "# Display interactive widget\n",
    "widgets.interact(update_fuel_price_distribution, selected_fuels=fuel_selector)"
   ]
  },
  {
   "cell_type": "markdown",
   "id": "1a68515f",
   "metadata": {},
   "source": [
    "#### 3.1.11 Descriptive statistics for Correlation Analysis of Vehicle Features"
   ]
  },
  {
   "cell_type": "code",
   "execution_count": null,
   "id": "a57ca379",
   "metadata": {},
   "outputs": [
    {
     "data": {
      "application/vnd.jupyter.widget-view+json": {
       "model_id": "ba13e951c737442d8d4ac17c6f19a950",
       "version_major": 2,
       "version_minor": 0
      },
      "text/plain": [
       "interactive(children=(SelectMultiple(description='Variables:', index=(0, 1, 2, 5), layout=Layout(width='50%'),…"
      ]
     },
     "metadata": {},
     "output_type": "display_data"
    },
    {
     "data": {
      "text/plain": [
       "<function __main__.update_scatter_matrix(selected_labels)>"
      ]
     },
     "execution_count": 42,
     "metadata": {},
     "output_type": "execute_result"
    }
   ],
   "source": [
    "# Prepare and encode\n",
    "df_corr = df_vehicles.copy()\n",
    "\n",
    "# Encode categorical features\n",
    "condition_map = {'salvage': 1, 'fair': 2, 'good': 3,\n",
    "                 'excellent': 4, 'like new': 5, 'new': 6}\n",
    "fuel_map = {'gas': 1, 'diesel': 2, 'hybrid': 3, 'electric': 4, 'other': 0}\n",
    "transmission_map = {'manual': 0, 'automatic': 1, 'other': 0.5}\n",
    "\n",
    "df_corr['condition_score'] = df_corr['condition'].map(condition_map)\n",
    "df_corr['fuel_score'] = df_corr['fuel'].map(fuel_map)\n",
    "df_corr['transmission_score'] = df_corr['transmission'].map(transmission_map)\n",
    "\n",
    "# Variable selector\n",
    "all_vars = {\n",
    "    'Price': 'price',\n",
    "    'Odometer': 'odometer',\n",
    "    'Model Year': 'model_year',\n",
    "    'Days Listed': 'days_listed',\n",
    "    'Is 4WD': 'is_4wd',\n",
    "    'Condition Score': 'condition_score',\n",
    "    'Fuel Score': 'fuel_score',\n",
    "    'Transmission Score': 'transmission_score'\n",
    "}\n",
    "\n",
    "var_selector = widgets.SelectMultiple(\n",
    "    options=all_vars.keys(),\n",
    "    value=('Price', 'Odometer', 'Model Year', 'Condition Score'),\n",
    "    description='Variables:',\n",
    "    layout=widgets.Layout(width='50%'),\n",
    "    style={'description_width': 'initial'}\n",
    ")\n",
    "\n",
    "# Update function\n",
    "\n",
    "\n",
    "def update_scatter_matrix(selected_labels):\n",
    "    selected_cols = [all_vars[label] for label in selected_labels]\n",
    "    df_selected = df_corr[selected_cols].dropna()\n",
    "\n",
    "    fig = px.scatter_matrix(df_selected,\n",
    "                            dimensions=selected_cols,\n",
    "                            title=\"Scatter Matrix of Selected Features\",\n",
    "                            color_discrete_sequence=['grey'])\n",
    "\n",
    "    fig.update_traces(diagonal_visible=True, showupperhalf=False)\n",
    "    fig.show()\n",
    "\n",
    "\n",
    "# Display widget\n",
    "widgets.interact(update_scatter_matrix, selected_labels=var_selector)"
   ]
  }
 ],
 "metadata": {
  "kernelspec": {
   "display_name": "base",
   "language": "python",
   "name": "python3"
  },
  "language_info": {
   "codemirror_mode": {
    "name": "ipython",
    "version": 3
   },
   "file_extension": ".py",
   "mimetype": "text/x-python",
   "name": "python",
   "nbconvert_exporter": "python",
   "pygments_lexer": "ipython3",
   "version": "3.12.7"
  }
 },
 "nbformat": 4,
 "nbformat_minor": 5
}
